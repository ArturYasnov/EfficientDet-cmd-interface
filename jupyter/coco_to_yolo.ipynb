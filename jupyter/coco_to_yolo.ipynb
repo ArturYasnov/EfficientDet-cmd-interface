{
 "cells": [
  {
   "cell_type": "code",
   "execution_count": 7,
   "metadata": {
    "collapsed": true,
    "pycharm": {
     "name": "#%%\n"
    }
   },
   "outputs": [],
   "source": [
    "import ast\n",
    "import glob\n",
    "import os\n",
    "import shutil\n",
    "\n",
    "import pandas as pd\n",
    "from sklearn.model_selection import train_test_split\n",
    "from tqdm.notebook import tqdm"
   ]
  },
  {
   "cell_type": "code",
   "execution_count": 8,
   "outputs": [],
   "source": [
    "def voc_to_yolo_bbox(bbox, w=1024, h=1024):\n",
    "    # xmin, ymin, xmax, ymax\n",
    "    x_center = ((int(bbox[2]) + int(bbox[0])) / 2) / w\n",
    "    y_center = ((int(bbox[3]) + int(bbox[1])) / 2) / h\n",
    "    width = (int(bbox[2]) - int(bbox[0])) / w\n",
    "    height = (int(bbox[3]) - int(bbox[1])) / h\n",
    "    return [x_center, y_center, width, height]"
   ],
   "metadata": {
    "collapsed": false,
    "pycharm": {
     "name": "#%%\n"
    }
   }
  },
  {
   "cell_type": "code",
   "execution_count": null,
   "outputs": [],
   "source": [
    "def yolo_to_voc_bbox(yolo_file_path, dw=1024, dh=1024):\n",
    "    file = open(yolo_file_path, 'r')\n",
    "    boxes = file.readlines()\n",
    "    file.close()\n",
    "\n",
    "    bboxes = []\n",
    "\n",
    "    for bx in boxes:\n",
    "        # Split string to float\n",
    "        c, x, y, w, h = map(float, bx.split(' '))\n",
    "\n",
    "        x1 = int((x - w / 2) * dw)\n",
    "        x2 = int((x + w / 2) * dw)\n",
    "        y1 = int((y - h / 2) * dh)\n",
    "        y2 = int((y + h / 2) * dh)\n",
    "\n",
    "        x1 = max(0, x1)\n",
    "        x2 = max(x1+1, min(dw-1, x2))\n",
    "        y1 = max(0, y1)\n",
    "        y2 = max(y1+1, min(dh-1, y2))\n",
    "\n",
    "        bboxes.append([x1, y1, x2, y2, c])\n",
    "\n",
    "    return bboxes"
   ],
   "metadata": {
    "collapsed": false,
    "pycharm": {
     "name": "#%%\n"
    }
   }
  },
  {
   "cell_type": "code",
   "execution_count": 52,
   "outputs": [],
   "source": [],
   "metadata": {
    "collapsed": false,
    "pycharm": {
     "name": "#%%\n"
    }
   }
  },
  {
   "cell_type": "code",
   "execution_count": null,
   "outputs": [],
   "source": [],
   "metadata": {
    "collapsed": false,
    "pycharm": {
     "name": "#%%\n"
    }
   }
  }
 ],
 "metadata": {
  "kernelspec": {
   "name": "dl_work",
   "language": "python",
   "display_name": "dl_work"
  },
  "language_info": {
   "codemirror_mode": {
    "name": "ipython",
    "version": 2
   },
   "file_extension": ".py",
   "mimetype": "text/x-python",
   "name": "python",
   "nbconvert_exporter": "python",
   "pygments_lexer": "ipython2",
   "version": "2.7.6"
  }
 },
 "nbformat": 4,
 "nbformat_minor": 0
}